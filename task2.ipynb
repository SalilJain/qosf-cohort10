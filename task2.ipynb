{
 "cells": [
  {
   "cell_type": "code",
   "metadata": {
    "id": "QyBGMGopTRpc",
    "ExecuteTime": {
     "end_time": "2024-10-20T15:47:05.737871Z",
     "start_time": "2024-10-20T15:47:04.883515Z"
    }
   },
   "source": [
    "from qiskit import QuantumRegister, ClassicalRegister, QuantumCircuit\n",
    "from qiskit.circuit import Parameter\n",
    "from qiskit.providers.basic_provider import BasicProvider\n",
    "import numpy as np\n",
    "from numpy import pi\n",
    "import qiskit.quantum_info as qi\n",
    "import math\n",
    "from enum import Enum\n",
    "from qiskit.quantum_info import Statevector\n",
    "import unittest\n"
   ],
   "outputs": [],
   "execution_count": 1
  },
  {
   "cell_type": "markdown",
   "metadata": {
    "id": "zBWqPCr_TQ7c"
   },
   "source": [
    "# 1 Noise Model\n",
    "\n",
    "A standard way to represent the noise in a quantum circuit is through Pauli operators (x, y, z). Build a function with input ,  and QuantumCircuit where:\n",
    "\n",
    "alpha → Probability of having a random Pauli operator acting on the qubit after a one-qubit gate\n",
    "\n",
    "beta → Probability of having a random Pauli operator acting on the qubit after a two-qubit gate\n",
    "\n",
    "QuantumCircuit → Quantum circuit where the noise will be added\n",
    "\n",
    "The output should be the Quantum Circuit with Noise\n"
   ]
  },
  {
   "cell_type": "code",
   "execution_count": 2,
   "metadata": {
    "id": "01kP3MrRrGDi"
   },
   "outputs": [],
   "source": [
    "def get_choice(probability):\n",
    "    \"\"\"\n",
    "    Get either 0 with 1 - probability and 1 with probability\n",
    "    \"\"\"\n",
    "    return np.random.choice(2, 1, p=[1-probability, probability])[0]\n",
    "class NoisyQubit(Enum):\n",
    "    \"\"\"\n",
    "    In 2 qubit gate, which qubit(s) should have the noise added\n",
    "    \"\"\"\n",
    "    TARGET = 1\n",
    "    CONTROL = 2\n",
    "    CONTROL_TARGET = 3"
   ]
  },
  {
   "cell_type": "markdown",
   "metadata": {},
   "source": [
    "## Test method do get 1 and 0"
   ]
  },
  {
   "cell_type": "code",
   "execution_count": 3,
   "metadata": {},
   "outputs": [],
   "source": [
    "shots = 1000\n",
    "for p in np.arange(0, 1.1, 0.1):\n",
    "    ones = np.sum([get_choice(p) for _ in range(shots)])/shots\n",
    "    np.testing.assert_almost_equal(ones, p, 1)"
   ]
  },
  {
   "cell_type": "markdown",
   "metadata": {},
   "source": [
    "## Method to add noise \n",
    "\n",
    "Currently we default to add noise only on target"
   ]
  },
  {
   "cell_type": "code",
   "execution_count": 4,
   "metadata": {
    "id": "DqwqvdMWTu7e"
   },
   "outputs": [],
   "source": [
    "def add_noise(alpha:float, beta:float, circuit:QuantumCircuit, noisy:NoisyQubit=NoisyQubit.TARGET) -> QuantumCircuit:\n",
    "  \"\"\"\n",
    "  Add noise to a quantum circuit\n",
    "  :param alpha: Probability of having a random Pauli operator acting on the qubit after a one-qubit gate\n",
    "  :param beta: Probability of having a random Pauli operator acting on the qubit after a two-qubit gate\n",
    "  :param circuit: Quantum circuit where the noise will be added\n",
    "  :param noisy: Noisy qubit\n",
    "  :return: Quantum circuit with noise\n",
    "  \"\"\"\n",
    "  instructions = circuit.data\n",
    "  pauly_str = ['X', 'Y', 'Z']\n",
    "  circuit_noisy = QuantumCircuit(*circuit.qregs, *circuit.cregs)\n",
    "  for instruction in circuit.data:\n",
    "    circuit_noisy.append(instruction)\n",
    "    if instruction.operation.name not in  ['reset', 'measure']:\n",
    "      if len(instruction.qubits) == 1:\n",
    "        if get_choice(alpha) == 1:\n",
    "          pauly_index = np.random.choice(pauly_str)\n",
    "          circuit_noisy.pauli(pauly_index, [instruction.qubits[0]])\n",
    "      elif len(instruction.qubits) == 2:\n",
    "        if get_choice(beta) == 1:\n",
    "          pauly_index = np.random.choice(pauly_str)\n",
    "          if noisy == NoisyQubit.CONTROL:\n",
    "            circuit_noisy.pauli(pauly_index, [instruction.qubits[0]])\n",
    "          elif noisy == NoisyQubit.TARGET:\n",
    "            circuit_noisy.pauli(pauly_index, [instruction.qubits[1]])\n",
    "          elif noisy == NoisyQubit.CONTROL_TARGET:\n",
    "            circuit_noisy.pauli(pauly_index, [instruction.qubits[0]])\n",
    "            circuit_noisy.pauli(pauly_index, [instruction.qubits[1]])\n",
    "  return circuit_noisy\n",
    "\n",
    "\n"
   ]
  },
  {
   "cell_type": "markdown",
   "metadata": {},
   "source": [
    "## Create a circuit to add noise later"
   ]
  },
  {
   "cell_type": "code",
   "execution_count": 5,
   "metadata": {
    "colab": {
     "base_uri": "https://localhost:8080/",
     "height": 156
    },
    "id": "TL88eoFAq7W6",
    "outputId": "0e3c43e5-1c69-4e39-9043-d5d8bcf2208f"
   },
   "outputs": [
    {
     "data": {
      "text/html": [
       "<pre style=\"word-wrap: normal;white-space: pre;background: #fff0;line-height: 1.1;font-family: &quot;Courier New&quot;,Courier,monospace\">           ┌───┐┌───┐         ┌─┐   \n",
       "qa_0: ─|0>─┤ X ├┤ X ├─■───────┤M├───\n",
       "           └───┘└─┬─┘ │P(π/2) └╥┘┌─┐\n",
       "qa_1: ─|0>────────■───■────────╫─┤M├\n",
       "            ┌─┐                ║ └╥┘\n",
       "qa_2: ─|0>──┤M├────────────────╫──╫─\n",
       "            └╥┘                ║  ║ \n",
       "ca: 3/═══════╩═════════════════╩══╩═\n",
       "             2                 0  1 </pre>"
      ],
      "text/plain": [
       "           ┌───┐┌───┐         ┌─┐   \n",
       "qa_0: ─|0>─┤ X ├┤ X ├─■───────┤M├───\n",
       "           └───┘└─┬─┘ │P(π/2) └╥┘┌─┐\n",
       "qa_1: ─|0>────────■───■────────╫─┤M├\n",
       "            ┌─┐                ║ └╥┘\n",
       "qa_2: ─|0>──┤M├────────────────╫──╫─\n",
       "            └╥┘                ║  ║ \n",
       "ca: 3/═══════╩═════════════════╩══╩═\n",
       "             2                 0  1 "
      ]
     },
     "execution_count": 5,
     "metadata": {},
     "output_type": "execute_result"
    }
   ],
   "source": [
    "num_bits_a = 3\n",
    "qreg_a = QuantumRegister(num_bits_a, 'qa')\n",
    "creg_a = ClassicalRegister(num_bits_a, 'ca')\n",
    "circuit = QuantumCircuit(qreg_a, creg_a)\n",
    "for i in range(num_bits_a):\n",
    "  circuit.reset(qreg_a[i])\n",
    "circuit.x(qreg_a[0])\n",
    "circuit.cx(qreg_a[1], qreg_a[0])\n",
    "circuit.cp(np.pi/2, qreg_a[1], qreg_a[0])\n",
    "for i in range(num_bits_a):\n",
    "  circuit.measure(qreg_a[i], creg_a[i])\n",
    "circuit.draw()"
   ]
  },
  {
   "cell_type": "markdown",
   "metadata": {},
   "source": [
    "## Adding noise to above circuit"
   ]
  },
  {
   "cell_type": "code",
   "execution_count": 6,
   "metadata": {
    "colab": {
     "base_uri": "https://localhost:8080/",
     "height": 156
    },
    "id": "qcbBy_5NWPB2",
    "outputId": "cafc1f13-618e-46d2-a4ca-1fb1fa68b86f"
   },
   "outputs": [
    {
     "data": {
      "text/html": [
       "<pre style=\"word-wrap: normal;white-space: pre;background: #fff0;line-height: 1.1;font-family: &quot;Courier New&quot;,Courier,monospace\">           ┌───┐┌──────────┐┌───┐         ┌─┐   \n",
       "qa_0: ─|0>─┤ X ├┤ Pauli(X) ├┤ X ├─■───────┤M├───\n",
       "           └───┘└──────────┘└─┬─┘ │P(π/2) └╥┘┌─┐\n",
       "qa_1: ─|0>────────────────────■───■────────╫─┤M├\n",
       "            ┌─┐                            ║ └╥┘\n",
       "qa_2: ─|0>──┤M├────────────────────────────╫──╫─\n",
       "            └╥┘                            ║  ║ \n",
       "ca: 3/═══════╩═════════════════════════════╩══╩═\n",
       "             2                             0  1 </pre>"
      ],
      "text/plain": [
       "           ┌───┐┌──────────┐┌───┐         ┌─┐   \n",
       "qa_0: ─|0>─┤ X ├┤ Pauli(X) ├┤ X ├─■───────┤M├───\n",
       "           └───┘└──────────┘└─┬─┘ │P(π/2) └╥┘┌─┐\n",
       "qa_1: ─|0>────────────────────■───■────────╫─┤M├\n",
       "            ┌─┐                            ║ └╥┘\n",
       "qa_2: ─|0>──┤M├────────────────────────────╫──╫─\n",
       "            └╥┘                            ║  ║ \n",
       "ca: 3/═══════╩═════════════════════════════╩══╩═\n",
       "             2                             0  1 "
      ]
     },
     "execution_count": 6,
     "metadata": {},
     "output_type": "execute_result"
    }
   ],
   "source": [
    "alpha = .5\n",
    "beta = .3\n",
    "circuit_noisy = add_noise(alpha, beta, circuit)\n",
    "circuit_noisy.draw()"
   ]
  },
  {
   "attachments": {},
   "cell_type": "markdown",
   "metadata": {},
   "source": [
    "# 2 Gate Basis \n",
    "\n",
    "Quantum computers can implement only a set of gates that, with transformations, can represent any other possible gate. This set of gates is called the Gate Basis of the QPU. Build a function that transforms a general Quantum Circuit to the following gate basis: {CX,ID,RZ,SX,X}\n"
   ]
  },
  {
   "cell_type": "code",
   "execution_count": 7,
   "metadata": {
    "id": "nMrbfwTiXMh-"
   },
   "outputs": [],
   "source": [
    "def transform_to_basis(circuit):\n",
    "  \"\"\"Transforms a quantum circuit to the basis {CX, ID, RZ, SX, X}.\n",
    "\n",
    "  :param circuit: The input quantum circuit.\n",
    "  :return: The transformed quantum circuit.\n",
    "  \"\"\"\n",
    "  transformed_circuit = QuantumCircuit(*circuit.qregs, *circuit.cregs)\n",
    "\n",
    "  def pauli_x(input_circuit, qubit):\n",
    "    input_circuit.x(qubit) # X\n",
    "    return input_circuit\n",
    "\n",
    "  def pauli_y(input_circuit, qubit):\n",
    "    input_circuit.rz(np.pi, qubit)  # RZ(pi)\n",
    "    input_circuit.x(qubit)  # X\n",
    "\n",
    "    return input_circuit\n",
    "\n",
    "  def pauli_z(input_circuit, qubit):\n",
    "    input_circuit.rz(np.pi, qubit)  # RZ(pi)\n",
    "    return input_circuit\n",
    "\n",
    "  for instruction in circuit.data:\n",
    "      qargs = instruction.qubits\n",
    "      cargs = instruction.clbits\n",
    "      if instruction.operation.name == 'h':  # Hadamard\n",
    "          transformed_circuit.rz(np.pi / 2, qargs[0])  # RZ(pi/2)\n",
    "          transformed_circuit.sx(qargs[0])  # SX\n",
    "          transformed_circuit.rz(np.pi / 2, qargs[0])  # RZ(pi/2)\n",
    "      elif instruction.operation.name == 'ry':  # Rotation around Y-axis\n",
    "          transformed_circuit.sx(qargs[0])  # SX\n",
    "          transformed_circuit.rz(instruction.params[0] + np.pi, qargs[0])  # RZ(theta)\n",
    "          transformed_circuit.sx(qargs[0])  # SX\n",
    "          transformed_circuit.rz(3*np.pi, qargs[0])  # RZ(theta)\n",
    "      elif instruction.operation.name == 'cp':  # Controlled Rotation around Z-axis\n",
    "          transformed_circuit.rz(instruction.params[0]/2, qargs[0])  # RZ(angle) on control bit\n",
    "          transformed_circuit.cx(qargs[0], qargs[1])  # CX(control, target)\n",
    "          transformed_circuit.rz(-instruction.params[0]/2, qargs[1])  # RZ(-angle) on target bit\n",
    "          transformed_circuit.cx(qargs[0], qargs[1])  # CX(control, target)\n",
    "          transformed_circuit.rz(instruction.params[0]/2, qargs[1])  # RZ(angle) on target bit\n",
    "\n",
    "      elif instruction.operation.name == 'rx':  # Rotation around X-axis\n",
    "          transformed_circuit.rz(np.pi/2, qargs[0]) # RZ(pi/2)\n",
    "          transformed_circuit.sx(qargs[0])  # SX\n",
    "          transformed_circuit.rz(instruction.params[0] + np.pi, qargs[0]) # RZ(angle)\n",
    "          transformed_circuit.sx(qargs[0])  # SX\n",
    "          transformed_circuit.rz(5*np.pi/2, qargs[0]) # RZ(-pi/2)\n",
    "      elif instruction.operation.name == 'pauli':  # Rotation around X-axis\n",
    "          for param, qubit in zip(instruction.params[0][:], reversed(qargs)):\n",
    "              if param == 'X':\n",
    "                  transformed_circuit = pauli_x(transformed_circuit, qubit)\n",
    "              elif param == 'Y':\n",
    "                  transformed_circuit = pauli_y(transformed_circuit, qubit)\n",
    "              elif param == 'Z':\n",
    "                  transformed_circuit = pauli_z(transformed_circuit, qubit)\n",
    "      elif instruction.operation.name in ['reset', 'measure', 'cx', 'id', 'rz', 'sx', 'x']:\n",
    "          # These gates are already in the target basis\n",
    "          transformed_circuit.append(instruction, qargs, cargs)\n",
    "      else:\n",
    "          raise ValueError(f\"Unsupported gate: {instruction.operation.name}\")\n",
    "\n",
    "  return transformed_circuit"
   ]
  },
  {
   "cell_type": "code",
   "execution_count": 8,
   "metadata": {
    "colab": {
     "base_uri": "https://localhost:8080/",
     "height": 125
    },
    "id": "cmJVDWzLOier",
    "outputId": "de821529-016d-4c46-9c18-dad10ba59fc3"
   },
   "outputs": [
    {
     "data": {
      "text/html": [
       "<pre style=\"word-wrap: normal;white-space: pre;background: #fff0;line-height: 1.1;font-family: &quot;Courier New&quot;,Courier,monospace\">               \n",
       "qa_0: ─■───────\n",
       "       │P(phi) \n",
       "qa_1: ─■───────\n",
       "               \n",
       "qa_2: ─────────\n",
       "               </pre>"
      ],
      "text/plain": [
       "               \n",
       "qa_0: ─■───────\n",
       "       │P(phi) \n",
       "qa_1: ─■───────\n",
       "               \n",
       "qa_2: ─────────\n",
       "               "
      ]
     },
     "execution_count": 8,
     "metadata": {},
     "output_type": "execute_result"
    }
   ],
   "source": [
    "qreg_a = QuantumRegister(3, 'qa')\n",
    "phi = Parameter('phi')\n",
    "circuit = QuantumCircuit(qreg_a)\n",
    "#circuit.pauli('YXZ', [qreg_a[0], qreg_a[1], qreg_a[2]])\n",
    "#circuit.h(qreg_a[0])\n",
    "#circuit.ry(phi, qreg_a[0])\n",
    "circuit.cp(phi, qreg_a[0], qreg_a[1])\n",
    "#circuit.rx(phi, qreg_a[0])\n",
    "circuit.draw()\n"
   ]
  },
  {
   "cell_type": "code",
   "execution_count": 9,
   "metadata": {
    "colab": {
     "base_uri": "https://localhost:8080/",
     "height": 125
    },
    "id": "1eDFvA3ROpB6",
    "outputId": "a7065b2a-4e2d-4682-ee90-7ebe3ea45151"
   },
   "outputs": [
    {
     "data": {
      "text/html": [
       "<pre style=\"word-wrap: normal;white-space: pre;background: #fff0;line-height: 1.1;font-family: &quot;Courier New&quot;,Courier,monospace\">      ┌───────────┐                                     \n",
       "qa_0: ┤ Rz(phi/2) ├──■──────────────────■───────────────\n",
       "      └───────────┘┌─┴─┐┌────────────┐┌─┴─┐┌───────────┐\n",
       "qa_1: ─────────────┤ X ├┤ Rz(-phi/2) ├┤ X ├┤ Rz(phi/2) ├\n",
       "                   └───┘└────────────┘└───┘└───────────┘\n",
       "qa_2: ──────────────────────────────────────────────────\n",
       "                                                        </pre>"
      ],
      "text/plain": [
       "      ┌───────────┐                                     \n",
       "qa_0: ┤ Rz(phi/2) ├──■──────────────────■───────────────\n",
       "      └───────────┘┌─┴─┐┌────────────┐┌─┴─┐┌───────────┐\n",
       "qa_1: ─────────────┤ X ├┤ Rz(-phi/2) ├┤ X ├┤ Rz(phi/2) ├\n",
       "                   └───┘└────────────┘└───┘└───────────┘\n",
       "qa_2: ──────────────────────────────────────────────────\n",
       "                                                        "
      ]
     },
     "execution_count": 9,
     "metadata": {},
     "output_type": "execute_result"
    }
   ],
   "source": [
    "transform_to_basis(circuit).draw()"
   ]
  },
  {
   "cell_type": "markdown",
   "metadata": {},
   "source": [
    "# 3 Adding two numbers with a quantum computer\n",
    "\n",
    "Build a function (quantum_sum) to add two numbers using the Draper adder algorithm. You will need the Quantum Fourier Transform (QFT). Many libraries offer a function to use it. For this task, you will need to build QFT from scratch.\n"
   ]
  },
  {
   "cell_type": "markdown",
   "metadata": {},
   "source": [
    "### Helper method to convert back from two's complement"
   ]
  },
  {
   "cell_type": "code",
   "execution_count": 10,
   "metadata": {
    "id": "d4PQJWUEi-VX"
   },
   "outputs": [],
   "source": [
    "# code from: https://stackoverflow.com/questions/1604464/twos-complement-in-python\n",
    "def twos_comp(val, bits):\n",
    "    \"\"\"compute the 2's complement of int value val\"\"\"\n",
    "    if (val & (1 << (bits - 1))) != 0: # if sign bit is set e.g., 8bit: 128-255\n",
    "        val = val - (1 << bits)        # compute negative value\n",
    "    return val                         # return positive value as is\n"
   ]
  },
  {
   "cell_type": "markdown",
   "metadata": {},
   "source": [
    "sum_circuit returns a Quantum circuit which uses Draper's algorithm to add two input number. Expectation is that an input circuit is provided with a and b quantum registers. As one can see that in sum_circuit no resolution need to be provided for a and b though input circuit needs to be appropriately established to account for expected resolution."
   ]
  },
  {
   "cell_type": "code",
   "execution_count": 2,
   "metadata": {
    "id": "rBrjnQKxlDZh"
   },
   "outputs": [],
   "source": [
    "def init_circuit(a, b):\n",
    "    \"\"\"\n",
    "    Create a quantum circuit based on the provided values of a and b\n",
    "    \"\"\"\n",
    "    assert len(a) == len(b)\n",
    "    NUM_BITS = len(a) \n",
    "    qreg_a = QuantumRegister(NUM_BITS, 'a')\n",
    "    qreg_b = QuantumRegister(NUM_BITS, 'b')\n",
    "    regs = [qreg_a, qreg_b]\n",
    "    circuit = QuantumCircuit(*regs)\n",
    "    # Set the bits based on bit string  \n",
    "    for i in range(NUM_BITS):\n",
    "        circuit.reset(qreg_a[i])\n",
    "        bit_index = NUM_BITS - i - 1\n",
    "        if bit_index < NUM_BITS and bit_index >= 0 and a[bit_index] == '1':\n",
    "          circuit.x(qreg_a[i])\n",
    "    for i in range(NUM_BITS):\n",
    "        circuit.reset(qreg_b[i])\n",
    "        bit_index = NUM_BITS - i - 1\n",
    "        if bit_index < NUM_BITS and bit_index >= 0  and b[bit_index] == '1':\n",
    "          circuit.x(qreg_b[i])\n",
    "    return circuit\n",
    "\n",
    "def get_reg_by_name(regs, name):\n",
    "    for reg in regs:\n",
    "        if reg.name == name:\n",
    "            return reg\n",
    "    return None\n",
    "    \n",
    "def sum_circuit(circuit):\n",
    "    \"\"\"\n",
    "    Returns a circuit which sums the Quantum Register a and b. If Classical Register a is present than measure Quantum Register in that\n",
    "    \"\"\"\n",
    "    qreg_a = get_reg_by_name(circuit.qregs, 'a')\n",
    "    qreg_b = get_reg_by_name(circuit.qregs, 'b')\n",
    "    # Currently both Quantum Register have to be same size\n",
    "    assert qreg_a.size == qreg_b.size\n",
    "    NUM_BITS = qreg_a.size\n",
    "\n",
    "    # QFT\n",
    "    for i in reversed(range(NUM_BITS)):\n",
    "        circuit.h(qreg_a[i])\n",
    "        k = 2\n",
    "        for j in range(i-1, -1, -1):\n",
    "          circuit.cp(2*pi/math.pow(2, k), qreg_a[j], qreg_a[i])\n",
    "          k+=1\n",
    "\n",
    "    # Add numbers using phase\n",
    "    for i in reversed(range(NUM_BITS)):\n",
    "        k = 1\n",
    "        for j in reversed(range(NUM_BITS)):\n",
    "          if j <= i:\n",
    "            circuit.cp(2*pi/math.pow(2, k), qreg_b[j], qreg_a[i])\n",
    "            k+=1\n",
    "\n",
    "    # IQFT\n",
    "    for i in range(NUM_BITS):\n",
    "        k = 1 + len(list(reversed(range(i-1, -1, -1))))\n",
    "        for j in reversed(range(i-1, -1, -1)):\n",
    "          circuit.cp(-2*pi/math.pow(2, k), qreg_a[j], qreg_a[i])\n",
    "          k-=1\n",
    "        circuit.h(qreg_a[i])\n",
    "    return circuit\n",
    "\n",
    "def quantum_sum(a, b,  NUM_BITS=4, transform_function=None, noise_function = None, alpha= None, beta=None):\n",
    "    \n",
    "    a_binstring = format(a if a >= 0 else (1 << NUM_BITS) + a, f'0{NUM_BITS}b')\n",
    "    b_binstring = format(b if b >= 0 else (1 << NUM_BITS) + b, f'0{NUM_BITS}b')\n",
    "    circuit = sum_circuit(init_circuit(a_binstring, b_binstring))\n",
    "    if transform_function:\n",
    "        circuit = transform_function(circuit)\n",
    "    if noise_function:\n",
    "        assert alpha is not None\n",
    "        assert beta is not None\n",
    "        circuit = noise_function(alpha, beta, circuit)\n",
    "    stv = Statevector(circuit)\n",
    "    states = []\n",
    "    for state, amp in enumerate(stv.data):\n",
    "          if not np.isclose(amp, 0):\n",
    "              states.append(twos_comp(int(f\"{state:0{stv.num_qubits}b}\"[NUM_BITS:],2), NUM_BITS))\n",
    "    return states, circuit\n",
    "    \n"
   ]
  },
  {
   "cell_type": "markdown",
   "metadata": {},
   "source": [
    "### Test addition for 4 bit numbers. \n",
    "\n",
    "Discarding the cases when overflow happens. It should be accounted by setting the circuit appropriately for higher NUM_BITS"
   ]
  },
  {
   "cell_type": "code",
   "execution_count": 12,
   "metadata": {},
   "outputs": [],
   "source": [
    "NUM_BITS = 4\n",
    "max_num = np.power(2, NUM_BITS-1)\n",
    "range_nums = list(range(-np.power(2, NUM_BITS) + max_num, max_num, 1))\n",
    "for i in range_nums:\n",
    "  for j in range_nums:\n",
    "    if i + j in range_nums: #discarding cases when there is overflow\n",
    "      states, circuit = quantum_sum(i, j, NUM_BITS)\n",
    "      assert len(states) == 1\n",
    "      assert states[0] == i + j\n"
   ]
  },
  {
   "cell_type": "markdown",
   "metadata": {},
   "source": [
    "### Test addition for 4 bit numbers along with tansformation to basis "
   ]
  },
  {
   "cell_type": "code",
   "execution_count": 13,
   "metadata": {
    "id": "gZnNjhPrJtAO"
   },
   "outputs": [],
   "source": [
    "NUM_BITS = 4\n",
    "max_num = np.power(2, NUM_BITS-1)\n",
    "range_nums = list(range(-np.power(2, NUM_BITS) + max_num, max_num, 1))\n",
    "for i in range_nums:\n",
    "  for j in range_nums:\n",
    "    if i + j in range_nums: #discarding cases when there is overflow\n",
    "      states, circuit = quantum_sum(i, j, NUM_BITS, transform_function=transform_to_basis)\n",
    "      assert len(states) == 1\n",
    "      assert states[0] == i + j\n"
   ]
  },
  {
   "cell_type": "markdown",
   "metadata": {},
   "source": [
    "# 4 Effects of noise on quantum addition \n",
    "\n",
    "Now, we can combine all the functions. Transform the circuit used in the quantum_sum to the gate basis and add noise. Use different levels of noise and analyze the results. \n",
    "\n",
    "●\tHow does the noise affect the results?\n",
    "\n",
    "●\tIs there a way to decrease the effect of noise? \n",
    "\n",
    "●\tHow does the number of gates used affect the results? \n"
   ]
  },
  {
   "cell_type": "code",
   "execution_count": 58,
   "metadata": {},
   "outputs": [],
   "source": [
    "noise = [x/100.0 for x in range(0, 101, 25)]\n",
    "\n",
    "def get_results_for_bits(NUM_BITS, noise, shots=1):\n",
    "    max_num = np.power(2, NUM_BITS-1)\n",
    "    range_nums = list(range(-np.power(2, NUM_BITS) + max_num, max_num, 1))\n",
    "    results = []\n",
    "    alpha_noise_values = noise\n",
    "    beta_noise_values = noise\n",
    "    for alpha_noise in alpha_noise_values:\n",
    "      result = []\n",
    "      for beta_noise in beta_noise_values:\n",
    "        counts = 0\n",
    "        passed = 0\n",
    "        for i in range_nums:\n",
    "          for j in range_nums:\n",
    "            if i + j in range_nums: #discarding cases when there is overflow\n",
    "                for _ in range(shots):\n",
    "                    counts += 1\n",
    "                    states, circuit = quantum_sum(i, j, NUM_BITS, transform_function=transform_to_basis, noise_function=add_noise, alpha=alpha_noise, beta=beta_noise)\n",
    "                    if len(states) == 1 and  states[0] == i + j:\n",
    "                        passed += 1\n",
    "        result.append(passed/counts)\n",
    "      results.insert(0,result)\n",
    "    return results"
   ]
  },
  {
   "cell_type": "markdown",
   "metadata": {},
   "source": [
    "### Test addition for 4 bit numbers along with tansformation to basis along with random noise"
   ]
  },
  {
   "cell_type": "code",
   "execution_count": 49,
   "metadata": {
    "colab": {
     "base_uri": "https://localhost:8080/",
     "height": 365
    },
    "id": "sLX4dtRtFtRo",
    "outputId": "c6f5235c-bc4f-4061-bf99-ef60a9e84a42"
   },
   "outputs": [],
   "source": [
    "results = get_results_for_bits(4, noise)"
   ]
  },
  {
   "cell_type": "code",
   "execution_count": 52,
   "metadata": {
    "colab": {
     "base_uri": "https://localhost:8080/",
     "height": 453
    },
    "id": "WjYiFsI_KSWn",
    "outputId": "3c534620-87ac-4e85-ac5a-4ed7f766436b"
   },
   "outputs": [
    {
     "data": {
      "text/plain": [
       "[Text(0.5, 23.52222222222222, 'Alpha'), Text(50.722222222222214, 0.5, 'Beta')]"
      ]
     },
     "execution_count": 52,
     "metadata": {},
     "output_type": "execute_result"
    },
    {
     "data": {
      "image/png": "[encoded data removed]",
      "text/plain": [
       "<Figure size 640x480 with 2 Axes>"
      ]
     },
     "metadata": {},
     "output_type": "display_data"
    }
   ],
   "source": [
    "import seaborn as sns\n",
    "hm = sns.heatmap(results, xticklabels=noise, yticklabels=list(reversed(noise)))\n",
    "hm.set(xlabel='Alpha', ylabel='Beta')"
   ]
  },
  {
   "cell_type": "markdown",
   "metadata": {},
   "source": [
    "### Test addition for 2 bit numbers along with tansformation to basis along with random noise"
   ]
  },
  {
   "cell_type": "code",
   "execution_count": 69,
   "metadata": {},
   "outputs": [],
   "source": [
    "results = get_results_for_bits(2, noise, 10)"
   ]
  },
  {
   "cell_type": "code",
   "execution_count": 70,
   "metadata": {},
   "outputs": [
    {
     "data": {
      "text/plain": [
       "[Text(0.5, 23.52222222222222, 'Alpha'), Text(50.722222222222214, 0.5, 'Beta')]"
      ]
     },
     "execution_count": 70,
     "metadata": {},
     "output_type": "execute_result"
    },
    {
     "data": {
      "image/png": "[encoded data removed]",
      "text/plain": [
       "<Figure size 640x480 with 2 Axes>"
      ]
     },
     "metadata": {},
     "output_type": "display_data"
    }
   ],
   "source": [
    "import seaborn as sns\n",
    "hm = sns.heatmap(results, xticklabels=noise, yticklabels=list(reversed(noise)))\n",
    "hm.set(xlabel='Alpha', ylabel='Beta')"
   ]
  },
  {
   "cell_type": "markdown",
   "metadata": {},
   "source": [
    "### Test addition for 1 bit numbers along with tansformation to basis along with random noise"
   ]
  },
  {
   "cell_type": "code",
   "execution_count": 71,
   "metadata": {},
   "outputs": [],
   "source": [
    "results = get_results_for_bits(1, noise, 10)"
   ]
  },
  {
   "cell_type": "code",
   "execution_count": 72,
   "metadata": {},
   "outputs": [
    {
     "data": {
      "text/plain": [
       "[Text(0.5, 23.52222222222222, 'Alpha'), Text(50.722222222222214, 0.5, 'Beta')]"
      ]
     },
     "execution_count": 72,
     "metadata": {},
     "output_type": "execute_result"
    },
    {
     "data": {
      "image/png": "[encoded data removed]",
      "text/plain": [
       "<Figure size 640x480 with 2 Axes>"
      ]
     },
     "metadata": {},
     "output_type": "display_data"
    }
   ],
   "source": [
    "import seaborn as sns\n",
    "hm = sns.heatmap(results, xticklabels=noise, yticklabels=list(reversed(noise)))\n",
    "hm.set(xlabel='Alpha', ylabel='Beta')"
   ]
  },
  {
   "cell_type": "markdown",
   "metadata": {},
   "source": [
    "●\tHow does the noise affect the results?\n",
    "\n",
    "As we increase the noise results become less reliable.\n",
    "\n",
    "●\tIs there a way to decrease the effect of noise? \n",
    "\n",
    "●\tHow does the number of gates used affect the results?\n",
    "\n",
    "Higher number of gates would be more prone to noise hence we see really bad results when we are adding 4 bit numbers compared to 1 bit"
   ]
  },
  {
   "cell_type": "code",
   "execution_count": null,
   "metadata": {},
   "outputs": [],
   "source": []
  }
 ],
 "metadata": {
  "colab": {
   "provenance": []
  },
  "kernelspec": {
   "display_name": "Python 3 (ipykernel)",
   "language": "python",
   "name": "python3"
  },
  "language_info": {
   "codemirror_mode": {
    "name": "ipython",
    "version": 3
   },
   "file_extension": ".py",
   "mimetype": "text/x-python",
   "name": "python",
   "nbconvert_exporter": "python",
   "pygments_lexer": "ipython3",
   "version": "3.11.8"
  }
 },
 "nbformat": 4,
 "nbformat_minor": 4
}
